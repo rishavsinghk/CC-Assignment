{
 "cells": [
  {
   "cell_type": "code",
   "execution_count": 1,
   "id": "88973873-7164-47e7-8d91-b4b7d52ec7b9",
   "metadata": {},
   "outputs": [
    {
     "name": "stdout",
     "output_type": "stream",
     "text": [
      "Rishav Kumar\n",
      "Rishav Kumar\n",
      "Rishav Kumar\n"
     ]
    }
   ],
   "source": [
    "\n",
    "#1.1: WAP to print your name three times\n",
    "\n",
    "print(\"Rishav Kumar\")\n",
    "print(\"Rishav Kumar\")\n",
    "print(\"Rishav Kumar\")\n"
   ]
  },
  {
   "cell_type": "code",
   "execution_count": 3,
   "id": "a143a2ff-84f3-4de1-9339-3366800bb3fa",
   "metadata": {},
   "outputs": [
    {
     "name": "stdout",
     "output_type": "stream",
     "text": [
      "120\n"
     ]
    }
   ],
   "source": [
    "#2.1:WAP to add three numbers and print the result.\n",
    "\n",
    "a=10\n",
    "b=20\n",
    "c=90\n",
    "print(a+b+c)"
   ]
  },
  {
   "cell_type": "code",
   "execution_count": 2,
   "id": "1fb8deb0-ba32-4b3d-acc9-4261ab0135dc",
   "metadata": {},
   "outputs": [
    {
     "name": "stdout",
     "output_type": "stream",
     "text": [
      "Rishav Kumar\n"
     ]
    }
   ],
   "source": [
    "#2.2: WAP to concatinate three strings and print the result.\n",
    "\n",
    "a=\"Ris\"\n",
    "b=\"hav\"\n",
    "c=\"_kumar\"\n",
    "print(a+b+c)"
   ]
  },
  {
   "cell_type": "code",
   "execution_count": 5,
   "id": "af3e3624-f07d-4fba-9187-8e5b5e6c7626",
   "metadata": {},
   "outputs": [
    {
     "name": "stdin",
     "output_type": "stream",
     "text": [
      "enter the number: 7\n"
     ]
    },
    {
     "name": "stdout",
     "output_type": "stream",
     "text": [
      "7\n",
      "14\n",
      "21\n",
      "28\n",
      "35\n",
      "42\n",
      "49\n",
      "56\n",
      "63\n",
      "70\n"
     ]
    }
   ],
   "source": [
    "#4.1: WAP to print the table of 7, 9\n",
    "\n",
    "a=int(input(\"enter the number:\"))  # we can input 7 and 9 respectively\n",
    "for i in range(1,11,1):\n",
    "  print(i*a)"
   ]
  },
  {
   "cell_type": "code",
   "execution_count": 6,
   "id": "776526c3-8898-4d80-aad4-57adf6155c5d",
   "metadata": {},
   "outputs": [
    {
     "name": "stdin",
     "output_type": "stream",
     "text": [
      "enter the number: 11\n"
     ]
    },
    {
     "name": "stdout",
     "output_type": "stream",
     "text": [
      "11\n",
      "22\n",
      "33\n",
      "44\n",
      "55\n",
      "66\n",
      "77\n",
      "88\n",
      "99\n",
      "110\n"
     ]
    }
   ],
   "source": [
    "#4.2: WAP to print the table of n and n is given by user.\n",
    "\n",
    "n=int(input(\"enter the number:\"))  \n",
    "for i in range(1,11,1):\n",
    "  print(i*n)\n",
    "\n"
   ]
  },
  {
   "cell_type": "code",
   "execution_count": 7,
   "id": "6ab67ee3-c383-413a-89e1-e3895554cc88",
   "metadata": {},
   "outputs": [
    {
     "name": "stdin",
     "output_type": "stream",
     "text": [
      "enter the number: 10\n"
     ]
    },
    {
     "name": "stdout",
     "output_type": "stream",
     "text": [
      "55\n"
     ]
    }
   ],
   "source": [
    "#4.3: WAP to add all the numbers from 1 to n and n is given by user.\n",
    "\n",
    "n=int(input(\"enter the number:\"))\n",
    "sum=0\n",
    "while n>0:\n",
    "  sum=sum+n\n",
    "  n=n-1\n",
    "print(sum)\n"
   ]
  },
  {
   "cell_type": "code",
   "execution_count": 9,
   "id": "578a812c-e69c-4737-b040-3818e48404b5",
   "metadata": {},
   "outputs": [
    {
     "name": "stdin",
     "output_type": "stream",
     "text": [
      "enter the first number: 1\n",
      "enter the second number: 2\n",
      "enter the third number: 3\n"
     ]
    },
    {
     "name": "stdout",
     "output_type": "stream",
     "text": [
      "3\n"
     ]
    }
   ],
   "source": [
    "#5.1: WAP to find max amoung three numbers and input from user. [Try max() function]\n",
    "\n",
    "a=int(input(\"enter the first number:\"))\n",
    "b=int(input(\"enter the second number:\"))\n",
    "c=int(input(\"enter the third number:\"))\n",
    "print(max(a,b,c))\n"
   ]
  },
  {
   "cell_type": "code",
   "execution_count": 11,
   "id": "6a256c29-ae10-473e-87ea-ea3b74df4476",
   "metadata": {},
   "outputs": [
    {
     "name": "stdin",
     "output_type": "stream",
     "text": [
      "enter the number: 64\n"
     ]
    },
    {
     "name": "stdout",
     "output_type": "stream",
     "text": [
      "63\n"
     ]
    }
   ],
   "source": [
    "#5.2: WAP to add all numbers divisible by 7 and 9 from 1 to n and n is given by the user.\n",
    "\n",
    "n=int(input(\"enter the number:\"))\n",
    "sum=0\n",
    "for i in range(1,n+1):\n",
    "  if(i%7==0 and i%9==0):\n",
    "    sum=sum+i\n",
    "\n",
    "print(sum)"
   ]
  },
  {
   "cell_type": "code",
   "execution_count": 14,
   "id": "0e934852-8086-4b90-8856-ef3b58e87bf2",
   "metadata": {},
   "outputs": [
    {
     "name": "stdin",
     "output_type": "stream",
     "text": [
      "Enter the value of n:  10\n"
     ]
    },
    {
     "name": "stdout",
     "output_type": "stream",
     "text": [
      "The sum of all prime numbers from 1 to 10 is: 17\n"
     ]
    }
   ],
   "source": [
    "# 6.1 \n",
    "\n",
    "def is_prime(num):\n",
    "    if num < 2:\n",
    "        return False\n",
    "    for i in range(2, int(num**0.5) + 1):  # Check divisibility up to sqrt(num)\n",
    "        if num % i == 0:\n",
    "            return False\n",
    "    return True\n",
    "\n",
    "\n",
    "def sum_prime_numbers(n):\n",
    "    total_sum = 0\n",
    "    for i in range(2, n + 1):  # Start at 2 because 1 is not prime\n",
    "        if is_prime(i):\n",
    "            total_sum += i\n",
    "    return total_sum\n",
    "\n",
    "\n",
    "n = int(input(\"Enter the value of n: \"))\n",
    "\n",
    "\n",
    "result = sum_prime_numbers(n)\n",
    "print(\"The sum of all prime numbers from 1 to\", n, \"is:\", result)\n",
    "\n"
   ]
  },
  {
   "cell_type": "code",
   "execution_count": null,
   "id": "430d6a34-35b9-4526-bf45-5699db323689",
   "metadata": {},
   "outputs": [],
   "source": [
    "6.2# Function to add all odd numbers from 1 to n\n",
    "def sum_odd_numbers(n):\n",
    "    total_sum = 0\n",
    "    for i in range(1, n + 1, 2):  # Start at 1, step by 2 to get only odd numbers\n",
    "        total_sum += i\n",
    "    return total_sum\n",
    "\n",
    "\n",
    "n = int(input(\"Enter the value of n: \"))\n",
    "\n",
    "\n",
    "result = sum_odd_numbers(n)\n",
    "print(\"The sum of all odd numbers from 1 to\", n, \"is:\", result)"
   ]
  },
  {
   "cell_type": "code",
   "execution_count": null,
   "id": "1e68424b-c049-48ba-a7fa-a845ac865c93",
   "metadata": {},
   "outputs": [],
   "source": []
  }
 ],
 "metadata": {
  "kernelspec": {
   "display_name": "Python 3 (ipykernel)",
   "language": "python",
   "name": "python3"
  },
  "language_info": {
   "codemirror_mode": {
    "name": "ipython",
    "version": 3
   },
   "file_extension": ".py",
   "mimetype": "text/x-python",
   "name": "python",
   "nbconvert_exporter": "python",
   "pygments_lexer": "ipython3",
   "version": "3.13.1"
  }
 },
 "nbformat": 4,
 "nbformat_minor": 5
}
