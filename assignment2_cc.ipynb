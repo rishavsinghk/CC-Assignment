{
 "cells": [
  {
   "cell_type": "markdown",
   "id": "64f915e3",
   "metadata": {},
   "source": [
    "1. Create a List L that is defined as= [10, 20, 30, 40, 50, 60, 70, 80].\n",
    "i. WAP to add 200 and 300 to L.\n",
    "ii. WAP to remove 10 and 30 from L.\n",
    "iii. WAP to sort L in ascending order.\n",
    "iv. WAP to sort L in descending order."
   ]
  },
  {
   "cell_type": "code",
   "execution_count": 1,
   "id": "97ccf9ad-e8fd-4460-a000-9224289928d1",
   "metadata": {},
   "outputs": [
    {
     "name": "stdout",
     "output_type": "stream",
     "text": [
      "List after adding 200 and 300: [10, 20, 30, 40, 50, 60, 70, 80, 200, 300]\n",
      "List after removing 10 and 30: [20, 40, 50, 60, 70, 80, 200, 300]\n",
      "List sorted in ascending order: [20, 40, 50, 60, 70, 80, 200, 300]\n",
      "List sorted in descending order: [300, 200, 80, 70, 60, 50, 40, 20]\n"
     ]
    }
   ],
   "source": [
    "# i. Add 200 and 300 to L\n",
    "L = [10, 20, 30, 40, 50, 60, 70, 80]\n",
    "L.append(200)\n",
    "L.append(300)\n",
    "print(\"List after adding 200 and 300:\", L)\n",
    "\n",
    "# ii. Remove 10 and 30 from L\n",
    "L.remove(10)\n",
    "L.remove(30)\n",
    "print(\"List after removing 10 and 30:\", L)\n",
    "\n",
    "# iii. Sort L in ascending order\n",
    "L.sort()\n",
    "print(\"List sorted in ascending order:\", L)\n",
    "\n",
    "# iv. Sort L in descending order\n",
    "L.sort(reverse=True)\n",
    "print(\"List sorted in descending order:\", L)\n"
   ]
  },
  {
   "cell_type": "markdown",
   "id": "73897c52",
   "metadata": {},
   "source": [
    "2. Create a tuple of marks scored as scores = (45, 89.5, 76, 45.4, 89, 92, 58, 45) and\n",
    "perform the following operations using tuple functions:\n",
    "i. Identify the highest score and its index in the tuple.\n",
    "ii. Find the lowest score and count how many times it appears.\n",
    "iii. Reverse the tuple and return it as a list.\n",
    "iv. Check if a specific score ‘76’ (input by the user) is present in the tuple and\n",
    "print its first occurrence index, or a message saying it’s not present."
   ]
  },
  {
   "cell_type": "code",
   "execution_count": 2,
   "id": "1587cd4c-8948-433d-9eef-7dd8d9f5c1ad",
   "metadata": {},
   "outputs": [
    {
     "name": "stdout",
     "output_type": "stream",
     "text": [
      "Highest score: 92 at index: 5\n",
      "Lowest score: 45 appears 2 times\n",
      "Reversed tuple as list: [45, 58, 92, 89, 45.4, 76, 89.5, 45]\n"
     ]
    },
    {
     "name": "stdout",
     "output_type": "stream",
     "text": [
      "Enter a score to check:  89\n"
     ]
    },
    {
     "name": "stdout",
     "output_type": "stream",
     "text": [
      "Score 89.0 found at index 4\n"
     ]
    }
   ],
   "source": [
    "# Tuple of marks\n",
    "scores = (45, 89.5, 76, 45.4, 89, 92, 58, 45)\n",
    "\n",
    "# i. Highest score and its index\n",
    "highest_score = max(scores)\n",
    "highest_index = scores.index(highest_score)\n",
    "print(\"Highest score:\", highest_score, \"at index:\", highest_index)\n",
    "\n",
    "# ii. Lowest score and count of its occurrences\n",
    "lowest_score = min(scores)\n",
    "lowest_count = scores.count(lowest_score)\n",
    "print(\"Lowest score:\", lowest_score, \"appears\", lowest_count, \"times\")\n",
    "\n",
    "# iii. Reverse the tuple and return it as a list\n",
    "reversed_list = list(scores[::-1])\n",
    "print(\"Reversed tuple as list:\", reversed_list)\n",
    "\n",
    "# iv. Check if a specific score '76' is present\n",
    "specific_score = float(input(\"Enter a score to check: \"))\n",
    "if specific_score in scores:\n",
    "    score_index = scores.index(specific_score)\n",
    "    print(f\"Score {specific_score} found at index {score_index}\")\n",
    "else:\n",
    "    print(f\"Score {specific_score} not found.\")\n",
    "\n"
   ]
  },
  {
   "cell_type": "markdown",
   "id": "1214b493",
   "metadata": {},
   "source": [
    "3. WAP to create a list of 100 random numbers between 100 and 900. Count and print\n",
    "the:\n",
    "i. All odd numbers\n",
    "ii. All even numbers\n",
    "iii. All prime numbers"
   ]
  },
  {
   "cell_type": "code",
   "execution_count": 3,
   "id": "b9094610-d639-43f4-93b4-c9b0e9a7500c",
   "metadata": {},
   "outputs": [
    {
     "name": "stdout",
     "output_type": "stream",
     "text": [
      "Count of odd numbers: 54\n",
      "Count of even numbers: 46\n",
      "Count of prime numbers: 21\n"
     ]
    }
   ],
   "source": [
    "import random\n",
    "\n",
    "# Create a list of 100 random numbers between 100 and 900\n",
    "random_numbers = [random.randint(100, 900) for _ in range(100)]\n",
    "\n",
    "# i. Count all odd numbers\n",
    "odd_numbers = [num for num in random_numbers if num % 2 != 0]\n",
    "print(\"Count of odd numbers:\", len(odd_numbers))\n",
    "\n",
    "# ii. Count all even numbers\n",
    "even_numbers = [num for num in random_numbers if num % 2 == 0]\n",
    "print(\"Count of even numbers:\", len(even_numbers))\n",
    "\n",
    "# iii. Count all prime numbers\n",
    "def is_prime(n):\n",
    "    if n <= 1:\n",
    "        return False\n",
    "    for i in range(2, int(n**0.5) + 1):\n",
    "        if n % i == 0:\n",
    "            return False\n",
    "    return True\n",
    "\n",
    "prime_numbers = [num for num in random_numbers if is_prime(num)]\n",
    "print(\"Count of prime numbers:\", len(prime_numbers))\n"
   ]
  },
  {
   "cell_type": "markdown",
   "id": "0610c2a9",
   "metadata": {},
   "source": [
    "4. Consider the following two sets, A and B, represenƟng scores of two teams in mulƟple\n",
    "matches. A = {34, 56, 78, 90} and B = {78, 45, 90, 23}\n",
    "WAP to perform the following operaƟons using set funcƟons:\n",
    "i. Find the unique scores achieved by both teams (union of sets).\n",
    "ii. IdenƟfy the scores that are common to both teams (intersecƟon of sets).\n",
    "iii. Find the scores that are exclusive to each team (symmetric difference).\n",
    "iv. Check if the scores of team A are a subset of team B, and if team B's scores are\n",
    "a superset of team A.\n",
    "v. Remove a specific score X (input by the user) from set A if it exists. If not, print\n",
    "a message saying it is not present."
   ]
  },
  {
   "cell_type": "code",
   "execution_count": 4,
   "id": "c1335333-aa7e-495e-a9ee-0d4af381449e",
   "metadata": {},
   "outputs": [
    {
     "name": "stdout",
     "output_type": "stream",
     "text": [
      "Union of A and B: {34, 45, 78, 23, 56, 90}\n",
      "Intersection of A and B: {90, 78}\n",
      "Symmetric difference of A and B: {34, 45, 23, 56}\n",
      "Is A a subset of B? False\n",
      "Is B a superset of A? False\n"
     ]
    },
    {
     "name": "stdout",
     "output_type": "stream",
     "text": [
      "Enter a score to remove from set A:  34\n"
     ]
    },
    {
     "name": "stdout",
     "output_type": "stream",
     "text": [
      "Score 34 removed from set A: {56, 90, 78}\n"
     ]
    }
   ],
   "source": [
    "# Given sets A and B\n",
    "A = {34, 56, 78, 90}\n",
    "B = {78, 45, 90, 23}\n",
    "\n",
    "# i. Union of both sets\n",
    "union_set = A.union(B)\n",
    "print(\"Union of A and B:\", union_set)\n",
    "\n",
    "# ii. Intersection of both sets\n",
    "intersection_set = A.intersection(B)\n",
    "print(\"Intersection of A and B:\", intersection_set)\n",
    "\n",
    "# iii. Symmetric difference between sets\n",
    "symmetric_diff_set = A.symmetric_difference(B)\n",
    "print(\"Symmetric difference of A and B:\", symmetric_diff_set)\n",
    "\n",
    "# iv. Check if A is a subset of B and if B is a superset of A\n",
    "print(\"Is A a subset of B?\", A.issubset(B))\n",
    "print(\"Is B a superset of A?\", B.issuperset(A))\n",
    "\n",
    "# v. Remove a specific score X from set A if it exists\n",
    "X = int(input(\"Enter a score to remove from set A: \"))\n",
    "if X in A:\n",
    "    A.remove(X)\n",
    "    print(f\"Score {X} removed from set A:\", A)\n",
    "else:\n",
    "    print(f\"Score {X} not found in set A.\")\n"
   ]
  },
  {
   "cell_type": "markdown",
   "id": "8ba64ea1",
   "metadata": {},
   "source": [
    "5. Write a program to rename a key city to a locaƟon in the following dicƟonary."
   ]
  },
  {
   "attachments": {
    "image.png": {
     "image/png": "[encoded data removed]"
    }
   },
   "cell_type": "markdown",
   "id": "3d98a9b2",
   "metadata": {},
   "source": [
    "![image.png](attachment:image.png)"
   ]
  },
  {
   "cell_type": "code",
   "execution_count": 5,
   "id": "39fb8a26-43e7-4bc2-8999-bc35cbedfad9",
   "metadata": {},
   "outputs": [
    {
     "name": "stdout",
     "output_type": "stream",
     "text": [
      "{'name': 'Kelly', 'age': 25, 'salary': 8000, 'location': 'New york'}\n"
     ]
    }
   ],
   "source": [
    "# Q5\n",
    "sample_dict = {\n",
    "    \"name\": \"Kelly\",\n",
    "    \"age\": 25,\n",
    "    \"salary\": 8000,\n",
    "    \"city\": \"New york\"\n",
    "}\n",
    "\n",
    "# Rename 'city' to 'location'\n",
    "sample_dict[\"location\"] = sample_dict.pop(\"city\")\n",
    "\n",
    "# Print the updated dictionary\n",
    "print(sample_dict)"
   ]
  },
  {
   "cell_type": "code",
   "execution_count": null,
   "id": "34cf8d10-bb22-4864-ab38-9c97bba67dc1",
   "metadata": {},
   "outputs": [],
   "source": []
  }
 ],
 "metadata": {
  "kernelspec": {
   "display_name": "Python 3 (ipykernel)",
   "language": "python",
   "name": "python3"
  },
  "language_info": {
   "codemirror_mode": {
    "name": "ipython",
    "version": 3
   },
   "file_extension": ".py",
   "mimetype": "text/x-python",
   "name": "python",
   "nbconvert_exporter": "python",
   "pygments_lexer": "ipython3",
   "version": "3.13.1"
  }
 },
 "nbformat": 4,
 "nbformat_minor": 5
}
